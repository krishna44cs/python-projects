{
 "cells": [
  {
   "cell_type": "code",
   "execution_count": 1,
   "id": "61449dcf",
   "metadata": {},
   "outputs": [],
   "source": [
    "from pyspark.sql import SparkSession "
   ]
  },
  {
   "cell_type": "code",
   "execution_count": 2,
   "id": "b6e3e7a8",
   "metadata": {},
   "outputs": [],
   "source": [
    "spark=SparkSession.builder.appName('scd1').getOrCreate()"
   ]
  },
  {
   "cell_type": "code",
   "execution_count": 7,
   "id": "6a7ff19c",
   "metadata": {},
   "outputs": [],
   "source": [
    "df = spark.read.csv('v_demo1.csv',header = True,inferSchema =True)"
   ]
  },
  {
   "cell_type": "code",
   "execution_count": 90,
   "id": "86d73f5f",
   "metadata": {},
   "outputs": [],
   "source": [
    "df1=spark.read.csv('v-demo2.csv',header =True,inferSchema =True)"
   ]
  },
  {
   "cell_type": "code",
   "execution_count": 91,
   "id": "ae28dbae",
   "metadata": {},
   "outputs": [
    {
     "name": "stdout",
     "output_type": "stream",
     "text": [
      "+---------+---------+----------+-------+--------+\n",
      "|EMPNO_SRC|ENAME_SRC|DEPTNO_SRC|SAL_SRC|COMM_SRC|\n",
      "+---------+---------+----------+-------+--------+\n",
      "|     7369|    SMITH|        20|    800|    null|\n",
      "|     7499|    ALLEN|        30|   1600|     300|\n",
      "|     7521|     WARD|        30|   1250|     500|\n",
      "|     7566|    JONES|        20|   2975|    null|\n",
      "|     7654|   MARTIN|        30|   1250|    1400|\n",
      "|     7698|    BLAKE|        30|   2850|    null|\n",
      "|     7782|    CLARK|        10|   2450|    null|\n",
      "|     7788|    SCOTT|        20|   3000|    null|\n",
      "|     7839|     KING|        10|   5000|    null|\n",
      "|     7844|   TURNER|        30|   1500|       0|\n",
      "|     7876|    ADAMS|        20|   1100|    null|\n",
      "|     7900|    JAMES|        30|    950|    null|\n",
      "|     7902|     FORD|        20|   3000|    null|\n",
      "|     7934|   MILLER|        10|   1300|    null|\n",
      "+---------+---------+----------+-------+--------+\n",
      "\n"
     ]
    }
   ],
   "source": [
    "df.show()"
   ]
  },
  {
   "cell_type": "code",
   "execution_count": 92,
   "id": "99669614",
   "metadata": {},
   "outputs": [
    {
     "name": "stdout",
     "output_type": "stream",
     "text": [
      "+-----+------+------+----+----+\n",
      "|EMPNO| ENAME|DEPTNO| SAL|COMM|\n",
      "+-----+------+------+----+----+\n",
      "| 7369|vineet|    20| 800|null|\n",
      "| 7521|  WARD|    30|1250| 500|\n",
      "| 7566| JONES|    20|2975|null|\n",
      "| 7654|MARTIN|    30|1250|1400|\n",
      "| 7698| BLAKE|    30|2850|null|\n",
      "| 7782| CLARK|    10|2450|null|\n",
      "| 7788| SCOTT|    20|3000|null|\n",
      "| 7839|  KING|    10|5000|null|\n",
      "| 7844|TURNER|    30|1500|   0|\n",
      "| 7876| ADAMS|    20|1100|null|\n",
      "| 7900| JAMES|    30| 950|null|\n",
      "| 7902|  FORD|    20|3000|null|\n",
      "| 7934|MILLER|    10|1300|null|\n",
      "| 2654|   Ram|    10|1387|null|\n",
      "| 2435|  Sita|    20|1097|   0|\n",
      "+-----+------+------+----+----+\n",
      "\n"
     ]
    }
   ],
   "source": [
    "df1.show()"
   ]
  },
  {
   "cell_type": "code",
   "execution_count": 20,
   "id": "ed057e5c",
   "metadata": {},
   "outputs": [],
   "source": [
    "df=df.withColumnRenamed('EMPNO','EMPNO_SRC') \\\n",
    " .withColumnRenamed('SAL','SAL_SRC') \\\n",
    " .withColumnRenamed('ENAME','ENAME_SRC') \\\n",
    " .withColumnRenamed('DEPTNO','DEPTNO_SRC') \\\n",
    " .withColumnRenamed('COMM','COMM_SRC')\n",
    "df1=df1.withColumnRenamed('EMPNO','EMPNO_TGT') \\\n",
    "\n",
    " .withColumnRenamed('SAL','SAL_TGT')"
   ]
  },
  {
   "cell_type": "markdown",
   "id": "dd4e9480",
   "metadata": {},
   "source": [
    "# INSERTED ROW"
   ]
  },
  {
   "cell_type": "code",
   "execution_count": 89,
   "id": "654146b3",
   "metadata": {},
   "outputs": [],
   "source": [
    "df_join_right=df.join(df1,df.EMPNO_SRC==df1.EMPNO_TGT,how=\"right\")\n"
   ]
  },
  {
   "cell_type": "code",
   "execution_count": 51,
   "id": "6b69a253",
   "metadata": {},
   "outputs": [
    {
     "name": "stdout",
     "output_type": "stream",
     "text": [
      "+---------+---------+----------+-------+--------+---------+------+------+-------+----+-----------+\n",
      "|EMPNO_SRC|ENAME_SRC|DEPTNO_SRC|SAL_SRC|COMM_SRC|EMPNO_TGT| ENAME|DEPTNO|SAL_TGT|COMM|INSERT_FLAG|\n",
      "+---------+---------+----------+-------+--------+---------+------+------+-------+----+-----------+\n",
      "|     7369|    SMITH|        20|    800|    null|     7369|vineet|    20|    800|null|          0|\n",
      "|     7521|     WARD|        30|   1250|     500|     7521|  WARD|    30|   1250| 500|          0|\n",
      "|     7566|    JONES|        20|   2975|    null|     7566| JONES|    20|   2975|null|          0|\n",
      "|     7654|   MARTIN|        30|   1250|    1400|     7654|MARTIN|    30|   1250|1400|          0|\n",
      "|     7698|    BLAKE|        30|   2850|    null|     7698| BLAKE|    30|   2850|null|          0|\n",
      "|     7782|    CLARK|        10|   2450|    null|     7782| CLARK|    10|   2450|null|          0|\n",
      "|     7788|    SCOTT|        20|   3000|    null|     7788| SCOTT|    20|   3000|null|          0|\n",
      "|     7839|     KING|        10|   5000|    null|     7839|  KING|    10|   5000|null|          0|\n",
      "|     7844|   TURNER|        30|   1500|       0|     7844|TURNER|    30|   1500|   0|          0|\n",
      "|     7876|    ADAMS|        20|   1100|    null|     7876| ADAMS|    20|   1100|null|          0|\n",
      "|     7900|    JAMES|        30|    950|    null|     7900| JAMES|    30|    950|null|          0|\n",
      "|     7902|     FORD|        20|   3000|    null|     7902|  FORD|    20|   3000|null|          0|\n",
      "|     7934|   MILLER|        10|   1300|    null|     7934|MILLER|    10|   1300|null|          0|\n",
      "|     null|     null|      null|   null|    null|     2654|   Ram|    10|   1387|null|          1|\n",
      "|     null|     null|      null|   null|    null|     2435|  Sita|    20|   1097|   0|          1|\n",
      "+---------+---------+----------+-------+--------+---------+------+------+-------+----+-----------+\n",
      "\n"
     ]
    }
   ],
   "source": [
    "from pyspark.sql.functions import lit\n",
    "from pyspark.sql import functions as f\n",
    "df_scd_insert=df_join_right.withColumn(\"INSERT_FLAG\",\n",
    " f.when( df_join.EMPNO_SRC.isNull(),1).\\\n",
    " otherwise(0))\n",
    "df_scd_insert.show()"
   ]
  },
  {
   "cell_type": "code",
   "execution_count": 99,
   "id": "12e648de",
   "metadata": {},
   "outputs": [
    {
     "name": "stdout",
     "output_type": "stream",
     "text": [
      "+---------+-----+------+-------+----+\n",
      "|EMPNO_TGT|ENAME|DEPTNO|SAL_TGT|COMM|\n",
      "+---------+-----+------+-------+----+\n",
      "|     2654|  Ram|    10|   1387|null|\n",
      "|     2435| Sita|    20|   1097|   0|\n",
      "+---------+-----+------+-------+----+\n",
      "\n"
     ]
    }
   ],
   "source": [
    "df_scd_insert.select('EMPNO_TGT','ENAME','DEPTNO','SAL_TGT','COMM').filter(\"INSERT_FLAG ==1\").show()"
   ]
  },
  {
   "cell_type": "code",
   "execution_count": 97,
   "id": "b0f6bb1a",
   "metadata": {},
   "outputs": [
    {
     "data": {
      "text/plain": [
       "2"
      ]
     },
     "execution_count": 97,
     "metadata": {},
     "output_type": "execute_result"
    }
   ],
   "source": [
    "df_scd_insert.filter(\"INSERT_FLAG ==1\").count()"
   ]
  },
  {
   "cell_type": "markdown",
   "id": "e7c0ed60",
   "metadata": {},
   "source": [
    "# UPDATED RECORDS"
   ]
  },
  {
   "cell_type": "code",
   "execution_count": 85,
   "id": "6b32dbc9",
   "metadata": {},
   "outputs": [],
   "source": [
    "df_join_inner=df.join(df1,df.EMPNO_SRC==df1.EMPNO_TGT,how=\"inner\")\n"
   ]
  },
  {
   "cell_type": "code",
   "execution_count": 86,
   "id": "eafa43b3",
   "metadata": {},
   "outputs": [
    {
     "name": "stdout",
     "output_type": "stream",
     "text": [
      "+---------+---------+----------+-------+--------+---------+------+------+-------+----+-----------+\n",
      "|EMPNO_SRC|ENAME_SRC|DEPTNO_SRC|SAL_SRC|COMM_SRC|EMPNO_TGT| ENAME|DEPTNO|SAL_TGT|COMM|UPDATE_FLAG|\n",
      "+---------+---------+----------+-------+--------+---------+------+------+-------+----+-----------+\n",
      "|     7369|    SMITH|        20|    800|    null|     7369|vineet|    20|    800|null|          1|\n",
      "|     7521|     WARD|        30|   1250|     500|     7521|  WARD|    30|   1250| 500|          0|\n",
      "|     7566|    JONES|        20|   2975|    null|     7566| JONES|    20|   2975|null|          0|\n",
      "|     7654|   MARTIN|        30|   1250|    1400|     7654|MARTIN|    30|   1250|1400|          0|\n",
      "|     7698|    BLAKE|        30|   2850|    null|     7698| BLAKE|    30|   2850|null|          0|\n",
      "|     7782|    CLARK|        10|   2450|    null|     7782| CLARK|    10|   2450|null|          0|\n",
      "|     7788|    SCOTT|        20|   3000|    null|     7788| SCOTT|    20|   3000|null|          0|\n",
      "|     7839|     KING|        10|   5000|    null|     7839|  KING|    10|   5000|null|          0|\n",
      "|     7844|   TURNER|        30|   1500|       0|     7844|TURNER|    30|   1500|   0|          0|\n",
      "|     7876|    ADAMS|        20|   1100|    null|     7876| ADAMS|    20|   1100|null|          0|\n",
      "|     7900|    JAMES|        30|    950|    null|     7900| JAMES|    30|    950|null|          0|\n",
      "|     7902|     FORD|        20|   3000|    null|     7902|  FORD|    20|   3000|null|          0|\n",
      "|     7934|   MILLER|        10|   1300|    null|     7934|MILLER|    10|   1300|null|          0|\n",
      "+---------+---------+----------+-------+--------+---------+------+------+-------+----+-----------+\n",
      "\n"
     ]
    }
   ],
   "source": [
    "df_scd_update=df_join_inner.withColumn(\"UPDATE_FLAG\",\n",
    " f.when((df_join_inner.ENAME_SRC!=df_join_inner.ENAME) | (df_join_inner.DEPTNO_SRC!=df_join_inner.DEPTNO)|(df_join_inner.SAL_SRC!=df_join_inner.SAL_TGT)|(df_join_inner.COMM_SRC!=df_join_inner.COMM),1).\\\n",
    "otherwise(0))\n",
    "df_scd_update.show()"
   ]
  },
  {
   "cell_type": "code",
   "execution_count": 95,
   "id": "405f1572",
   "metadata": {},
   "outputs": [
    {
     "name": "stdout",
     "output_type": "stream",
     "text": [
      "+---------+---------+------+\n",
      "|EMPNO_SRC|ENAME_SRC| ENAME|\n",
      "+---------+---------+------+\n",
      "|     7369|    SMITH|vineet|\n",
      "+---------+---------+------+\n",
      "\n"
     ]
    }
   ],
   "source": [
    "df_scd_update.select('EMPNO_SRC','ENAME_SRC','ENAME').filter(\"UPDATE_FLAG ==1\").show()"
   ]
  },
  {
   "cell_type": "code",
   "execution_count": 88,
   "id": "b4e76ae8",
   "metadata": {},
   "outputs": [
    {
     "data": {
      "text/plain": [
       "1"
      ]
     },
     "execution_count": 88,
     "metadata": {},
     "output_type": "execute_result"
    }
   ],
   "source": [
    "df_scd_update.filter(\"UPDATE_FLAG ==1\").count()"
   ]
  },
  {
   "cell_type": "markdown",
   "id": "f8fcb335",
   "metadata": {},
   "source": [
    "# DELETED RECORDS"
   ]
  },
  {
   "cell_type": "code",
   "execution_count": 84,
   "id": "8cf5a8b8",
   "metadata": {},
   "outputs": [],
   "source": [
    "df_join_left=df.join(df1,df.EMPNO_SRC==df1.EMPNO_TGT,how=\"left\")\n"
   ]
  },
  {
   "cell_type": "code",
   "execution_count": 81,
   "id": "cfe59e16",
   "metadata": {},
   "outputs": [
    {
     "name": "stdout",
     "output_type": "stream",
     "text": [
      "+---------+---------+----------+-------+--------+---------+------+------+-------+----+-----------+\n",
      "|EMPNO_SRC|ENAME_SRC|DEPTNO_SRC|SAL_SRC|COMM_SRC|EMPNO_TGT| ENAME|DEPTNO|SAL_TGT|COMM|DELETE_FLAG|\n",
      "+---------+---------+----------+-------+--------+---------+------+------+-------+----+-----------+\n",
      "|     7369|    SMITH|        20|    800|    null|     7369|vineet|    20|    800|null|          0|\n",
      "|     7499|    ALLEN|        30|   1600|     300|     null|  null|  null|   null|null|          1|\n",
      "|     7521|     WARD|        30|   1250|     500|     7521|  WARD|    30|   1250| 500|          0|\n",
      "|     7566|    JONES|        20|   2975|    null|     7566| JONES|    20|   2975|null|          0|\n",
      "|     7654|   MARTIN|        30|   1250|    1400|     7654|MARTIN|    30|   1250|1400|          0|\n",
      "|     7698|    BLAKE|        30|   2850|    null|     7698| BLAKE|    30|   2850|null|          0|\n",
      "|     7782|    CLARK|        10|   2450|    null|     7782| CLARK|    10|   2450|null|          0|\n",
      "|     7788|    SCOTT|        20|   3000|    null|     7788| SCOTT|    20|   3000|null|          0|\n",
      "|     7839|     KING|        10|   5000|    null|     7839|  KING|    10|   5000|null|          0|\n",
      "|     7844|   TURNER|        30|   1500|       0|     7844|TURNER|    30|   1500|   0|          0|\n",
      "|     7876|    ADAMS|        20|   1100|    null|     7876| ADAMS|    20|   1100|null|          0|\n",
      "|     7900|    JAMES|        30|    950|    null|     7900| JAMES|    30|    950|null|          0|\n",
      "|     7902|     FORD|        20|   3000|    null|     7902|  FORD|    20|   3000|null|          0|\n",
      "|     7934|   MILLER|        10|   1300|    null|     7934|MILLER|    10|   1300|null|          0|\n",
      "+---------+---------+----------+-------+--------+---------+------+------+-------+----+-----------+\n",
      "\n"
     ]
    }
   ],
   "source": [
    "df_scd_delete=df_join_left.withColumn(\"DELETE_FLAG\",\n",
    " f.when( df_join.EMPNO_TGT.isNull(),1).\\\n",
    " otherwise(0))\n",
    "df_scd_delete.show()"
   ]
  },
  {
   "cell_type": "code",
   "execution_count": 93,
   "id": "98b618ee",
   "metadata": {},
   "outputs": [
    {
     "name": "stdout",
     "output_type": "stream",
     "text": [
      "+---------+---------+\n",
      "|EMPNO_SRC|ENAME_SRC|\n",
      "+---------+---------+\n",
      "|     7499|    ALLEN|\n",
      "+---------+---------+\n",
      "\n"
     ]
    }
   ],
   "source": [
    "df_scd_delete.select('EMPNO_SRC','ENAME_SRC').filter(\"DELETE_FLAG ==1\").show()"
   ]
  },
  {
   "cell_type": "code",
   "execution_count": 94,
   "id": "a1728ea4",
   "metadata": {},
   "outputs": [
    {
     "data": {
      "text/plain": [
       "1"
      ]
     },
     "execution_count": 94,
     "metadata": {},
     "output_type": "execute_result"
    }
   ],
   "source": [
    "df_scd_delete.filter(\"DELETE_FLAG ==1\").count()"
   ]
  },
  {
   "cell_type": "code",
   "execution_count": null,
   "id": "6dd86860",
   "metadata": {},
   "outputs": [],
   "source": []
  }
 ],
 "metadata": {
  "kernelspec": {
   "display_name": "Python 3 (ipykernel)",
   "language": "python",
   "name": "python3"
  },
  "language_info": {
   "codemirror_mode": {
    "name": "ipython",
    "version": 3
   },
   "file_extension": ".py",
   "mimetype": "text/x-python",
   "name": "python",
   "nbconvert_exporter": "python",
   "pygments_lexer": "ipython3",
   "version": "3.9.13"
  }
 },
 "nbformat": 4,
 "nbformat_minor": 5
}
